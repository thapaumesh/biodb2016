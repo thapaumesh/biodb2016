{
 "cells": [
  {
   "cell_type": "code",
   "execution_count": 16,
   "metadata": {
    "collapsed": false
   },
   "outputs": [
    {
     "data": {
      "text/plain": [
       "(252, 225, 248, 250)"
      ]
     },
     "execution_count": 16,
     "metadata": {},
     "output_type": "execute_result"
    }
   ],
   "source": [
    "dna = 'GTCGCCTCAGAACAGCATACCCTCGCTCGTGCTATTCCACTGACTTCGACGTTCCAACTGAGCCTTGTGGTCCTGCAGACCGGTGACAATGTTATTCTGCAGGTTCTTCTGGAGTCCCAACGCATTCACTGGTGCAACACGCCGGACGAAGGTGAGACTAAGGGGTCAGGTACTCATAAGATCTAAGGTAGGGATTTGCGTAAGTTGGTTCAACCGGCATTTCTCGTGTTTCCTATGACATTGTACTCGGCATGATAAGCCCACTTATCCAAGGGGCCATCCGTGAGTCTGATCTCCGAGGAGGCAATCCTAGAAGCTTCCTAACACTTGAAGTCCATATGGGGAAAAAAAAATCCCGACTAATCCGTAGAAAGCTGCCATAGTATTGAGCCCGCCCCGAACGATAACCGTGGAAGACAACCAGGTGGTGTTTCCCGCCGCACTGCACAGGACTGCACTCGAATCCCGATAAAATGAACTACCAGAACAACATGCGTCGCGGCGGGATACACTAACGTGTACAATCTATGGTTACATTATAATAGTATTGCTCAGTTCCTGCTGGATATTACTCAGGCGGGTTCTTTGGCATATGTAAAGACGGCTAGTGCCTTACGTACCTCGGCACGCGCATCGCTATGTTCGCGGGCGAATTCTAACGCATGGTAATTAACCACCTCTGACGATTCCATGAGCATAAACGAATCCGGCTATTTTTTGGGTCAAACTGAGGTGTAATATGTATTCCTGCGACACGAACATCCCACCTATTATTCACACTTTATTTGACAGGTGACAGCTAGTCCTCCGCCACTGTCTGCATGGAAGACTTCCCTCTTCCAGGGGACCATTAGGAGACGTAAGGCCCGCGAATGTAGATTGGGTTTGCGATAGGGTAAATACCACTCCAATCTTTGAAGAATTATCGTGTTGAGAGAATATTTTAACCTTCCGCGCCCAACGTCCTCCATTAAT'\n",
    "def count_nucleotides(dna):\n",
    "    \n",
    "\n",
    "    num_nucleoditesA=0\n",
    "    num_nucleoditesG=0\n",
    "    num_nucleoditesC=0\n",
    "    num_nucleoditesT=0   \n",
    "    \n",
    "\n",
    "    for char in dna:\n",
    "        if char is ('A'):\n",
    "            num_nucleoditesA = num_nucleoditesA + 1  \n",
    "        elif char is 'G':\n",
    "            num_nucleoditesG = num_nucleoditesG + 1 \n",
    "        elif char is 'C':\n",
    "            num_nucleoditesC = num_nucleoditesC + 1\n",
    "        else:\n",
    "            num_nucleoditesT = num_nucleoditesT + 1\n",
    "    return (num_nucleoditesA,num_nucleoditesG,num_nucleoditesC,num_nucleoditesT)\n",
    "    \n",
    "    \n",
    "     \n",
    "count_nucleotides(dna)\n",
    "\n",
    "\n"
   ]
  },
  {
   "cell_type": "code",
   "execution_count": 17,
   "metadata": {
    "collapsed": false
   },
   "outputs": [
    {
     "name": "stdout",
     "output_type": "stream",
     "text": [
      "223 226 244 229\n"
     ]
    }
   ],
   "source": [
    "def count(DNA):\n",
    "    cA = DNA.count('A')\n",
    "    cC = DNA.count('C')\n",
    "    cG = DNA.count('G')\n",
    "    cT = DNA.count('T')\n",
    "    print(cA,cC,cG,cT)\n",
    "DNA ='GTTCTGACGCCAGTTATGGATCCGTGCTAACCGGTATTTGGAGCGCATACAAATAGGAGACTTAAAGACTCTATTCCAGCTTCGGCGGCTGTCGTGTGGTGTTTAGATAGGAAATTTCAACAGTAACGGTTAGCCGCGGTGACCGAGGCGCCCATGTAATCTGCAGCCGTAATTGTTAGAACGTTTCTTGCTGCTATCCCTCGAAGTGGTAGCTTCGCACCCGCAGTATAGGGCCAGGAGGTCAGGATAATACTGCAACGGCTGTCAACGGGCAAGGATCGTCATACAGGGAATAAACGCTCAATCTTAGAGTACTAAACGCGTTGAGATGACCCTGGCACTTCGCACGGCTGAGAGTCAAGAGACGGCACCGGCAACCGCTCACGAGCCTATCACCCAATGACTCTAAGCATTGGCCCTGCTGGGCGAATCTGCCGGTTGCCAGACTTGTAGTCTGTGCGCTAAAATTGCCAGTGTCGGCTAGTAGTGAAAATGACGGAATCGGGCCTTCGCCAAAAACGTTTTGCTCGAATACGGGGTTCCTACCTCAAGATTCGTGAAAAACGATCACAGAGGGTCTGGCTATCCCGCTAGCTCACACACAGCCTGTCAGATGCTTCTGTGCAGCAAATCCCTAGTATCACTCATACCCGCCGCGCTTCTGTGATCGAGATGATTAGCGGGCGCCATAGGCAGGATTTTGATGCAGTAGACCAAAAGCTTTATGCTTGGTCTCTTAGGTCCTTAATAGATCTCACATCAATGATTTGTCCCTATAGGTCTTCGTTCTAAGGGTAGTCCTGGGCGGACCGAGCGGTTAGGGTTGATGCGAGAGGAATAAAGTAGGCAGGTGGCATATGTGACATCGGAAACTCTCTTATACATTCGTATGCAGCTCGCCGTCGCCTCTCACTCTGTCGTG'\n",
    "count(DNA)"
   ]
  },
  {
   "cell_type": "code",
   "execution_count": null,
   "metadata": {
    "collapsed": true
   },
   "outputs": [],
   "source": []
  }
 ],
 "metadata": {
  "kernelspec": {
   "display_name": "Python 3",
   "language": "python",
   "name": "python3"
  },
  "language_info": {
   "codemirror_mode": {
    "name": "ipython",
    "version": 3
   },
   "file_extension": ".py",
   "mimetype": "text/x-python",
   "name": "python",
   "nbconvert_exporter": "python",
   "pygments_lexer": "ipython3",
   "version": "3.5.1"
  }
 },
 "nbformat": 4,
 "nbformat_minor": 0
}
