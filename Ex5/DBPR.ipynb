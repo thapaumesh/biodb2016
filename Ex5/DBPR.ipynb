{
 "cells": [
  {
   "cell_type": "code",
   "execution_count": 4,
   "metadata": {
    "collapsed": false
   },
   "outputs": [
    {
     "name": "stdout",
     "output_type": "stream",
     "text": [
      "glycyl-tRNA aminoacylation\n"
     ]
    }
   ],
   "source": [
    "from Bio import ExPASy\n",
    "from Bio import SwissProt\n",
    "\n",
    "def DBPR(id):\n",
    "    handle = ExPASy.get_sprot_raw(id)\n",
    "    record = SwissProt.read(handle)\n",
    "    gene_ontology = [r[2].split(\":\")[1] for r in record.cross_references if r[0] == \"GO\" and r[2].startswith('P')]\n",
    "    print (\"\\n\".join(gene_ontology))\n",
    "    \n",
    "DBPR('B5ZC00')"
   ]
  },
  {
   "cell_type": "code",
   "execution_count": null,
   "metadata": {
    "collapsed": true
   },
   "outputs": [],
   "source": []
  }
 ],
 "metadata": {
  "kernelspec": {
   "display_name": "Python 3",
   "language": "python",
   "name": "python3"
  },
  "language_info": {
   "codemirror_mode": {
    "name": "ipython",
    "version": 3
   },
   "file_extension": ".py",
   "mimetype": "text/x-python",
   "name": "python",
   "nbconvert_exporter": "python",
   "pygments_lexer": "ipython3",
   "version": "3.5.1"
  }
 },
 "nbformat": 4,
 "nbformat_minor": 0
}
