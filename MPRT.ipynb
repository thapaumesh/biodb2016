{
 "cells": [
  {
   "cell_type": "code",
   "execution_count": 1,
   "metadata": {
    "collapsed": false
   },
   "outputs": [
    {
     "name": "stdout",
     "output_type": "stream",
     "text": [
      "O74366\n",
      "10\n",
      "O14977\n",
      "9\n",
      "A8GP89\n",
      "101\n",
      "P02790_HEMO_HUMAN\n",
      "64 187 240 246 453\n",
      "P01044_KNH1_BOVIN\n",
      "47 87 168 169 197 204\n",
      "P08198_CSG_HALHA\n",
      "36 51 327 339 398 438 513 643 727 751 787 811 815\n",
      "Q60960\n",
      "16 140 336 364 406 461\n",
      "P80370_DLK_HUMAN\n",
      "100\n"
     ]
    }
   ],
   "source": [
    "import sys, re\n",
    "from collections import OrderedDict\n",
    "from urllib.request import urlopen\n",
    "\n",
    "\n",
    "def fastaseq_gen(filename):\n",
    "    with open('rosalind_mprt.txt') as f:\n",
    "        for line in f:\n",
    "            uniprot_id = line.strip()\n",
    "\n",
    "            url = 'http://www.uniprot.org/uniprot/{}.fasta'.format(uniprot_id)\n",
    "            with urlopen(url) as f:\n",
    "                fasta_txt = f.read().decode('ascii')\n",
    "\n",
    "            yield (uniprot_id, ''.join(fasta_txt.split('\\n')[1:]))\n",
    "\n",
    "\n",
    "def find_motif(seq):\n",
    "    motif_re = re.compile(r'N[^P][ST][^P]')\n",
    "\n",
    "    positions, last_match = [], 0\n",
    "    while True:\n",
    "        match = motif_re.search(seq, last_match)\n",
    "        if not match:\n",
    "            break\n",
    "\n",
    "        last_match = match.start() + 1\n",
    "        positions.append(last_match)\n",
    "\n",
    "    return positions\n",
    "\n",
    "\n",
    "if __name__ == '__main__':\n",
    "    try:\n",
    "        filename = sys.argv[1]\n",
    "    except IndexError:\n",
    "        print('Missing filename', file=sys.stderr)\n",
    "        sys.exit(1)\n",
    "\n",
    "    for uniprot_id, seq in fastaseq_gen(filename):\n",
    "        motif_positions = find_motif(seq)\n",
    "        if motif_positions:\n",
    "            print(uniprot_id)\n",
    "            print(' '.join(str(pos) for pos in motif_positions))"
   ]
  },
  {
   "cell_type": "code",
   "execution_count": null,
   "metadata": {
    "collapsed": true
   },
   "outputs": [],
   "source": []
  }
 ],
 "metadata": {
  "kernelspec": {
   "display_name": "Python 3",
   "language": "python",
   "name": "python3"
  },
  "language_info": {
   "codemirror_mode": {
    "name": "ipython",
    "version": 3
   },
   "file_extension": ".py",
   "mimetype": "text/x-python",
   "name": "python",
   "nbconvert_exporter": "python",
   "pygments_lexer": "ipython3",
   "version": "3.5.1"
  }
 },
 "nbformat": 4,
 "nbformat_minor": 0
}
