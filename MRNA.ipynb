{
 "cells": [
  {
   "cell_type": "code",
   "execution_count": 1,
   "metadata": {
    "collapsed": false
   },
   "outputs": [
    {
     "name": "stdout",
     "output_type": "stream",
     "text": [
      "665472\n"
     ]
    }
   ],
   "source": [
    "from Bio.SeqUtils.CodonUsage import SynonymousCodons\n",
    "from Bio.SeqUtils import seq1\n",
    "\n",
    "f = open(\"rosalind_mrna.txt\", 'r')\n",
    "protein = f.readline().rstrip()\n",
    "f.close()\n",
    "\n",
    "#Codon dictionary of just possibility counts (e.g. Met = 1, Ala = 4)\n",
    "codonTable = {}\n",
    "for key in SynonymousCodons.keys():\n",
    "    # Use seq1 to convert three letter codes to one letter\n",
    "    codonTable[seq1(key)] = len(SynonymousCodons[key])\n",
    "\n",
    "# Amino acid combinations\n",
    "aa_comb = 1\n",
    "for aa in protein:\n",
    "    aa_comb *= codonTable[aa]\n",
    "\n",
    "# Times 3 for the 3 possible stop codons\n",
    "# Modulo 1000000 to make final number reasonable sized\n",
    "print (aa_comb * 3 % 1000000)"
   ]
  },
  {
   "cell_type": "code",
   "execution_count": null,
   "metadata": {
    "collapsed": true
   },
   "outputs": [],
   "source": []
  }
 ],
 "metadata": {
  "kernelspec": {
   "display_name": "Python 3",
   "language": "python",
   "name": "python3"
  },
  "language_info": {
   "codemirror_mode": {
    "name": "ipython",
    "version": 3
   },
   "file_extension": ".py",
   "mimetype": "text/x-python",
   "name": "python",
   "nbconvert_exporter": "python",
   "pygments_lexer": "ipython3",
   "version": "3.5.1"
  }
 },
 "nbformat": 4,
 "nbformat_minor": 0
}
