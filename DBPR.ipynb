{
 "cells": [
  {
   "cell_type": "code",
   "execution_count": 4,
   "metadata": {
    "collapsed": false
   },
   "outputs": [
    {
     "name": "stdout",
     "output_type": "stream",
     "text": [
      "glycyl-tRNA aminoacylation\n"
     ]
    }
   ],
   "source": [
    "from Bio import ExPASy\n",
    "from Bio import SwissProt\n",
    "\n",
    "def DBPR(id):\n",
    "    handle = ExPASy.get_sprot_raw(id)\n",
    "    record = SwissProt.read(handle)\n",
    "    gene_ontology = [r[2].split(\":\")[1] for r in record.cross_references if r[0] == \"GO\" and r[2].startswith('P')]\n",
    "    print (\"\\n\".join(gene_ontology))\n",
    "    \n",
    "DBPR('B5ZC00')"
   ]
  },
  {
   "cell_type": "code",
   "execution_count": null,
   "metadata": {
    "collapsed": false
   },
   "outputs": [],
   "source": [
    "import urllib.request\n",
    "filename = input()\n",
    "url = 'http://www.uniprot.org/uniprot/'+filename+'.txt'\n",
    "print(url)\n",
    "\n",
    "response = urllib.request.urlopen(url)\n",
    "data = response.read()      # a `bytes` object\n",
    "text = data.decode('utf-8')\n",
    "\n",
    "print(text)\n",
    "\n",
    "lines = text.split('\\n')\n",
    "\n",
    "for line in lines:\n",
    "    words = line.split()\n",
    "    if 'GO;' in words:\n",
    "        gene = (line.split(';'))[2].split(':')[1]\n",
    "        print(gene)\n",
    "        \n",
    "filename = rosalid_dbpr"
   ]
  },
  {
   "cell_type": "code",
   "execution_count": null,
   "metadata": {
    "collapsed": true
   },
   "outputs": [],
   "source": []
  }
 ],
 "metadata": {
  "kernelspec": {
   "display_name": "Python 3",
   "language": "python",
   "name": "python3"
  },
  "language_info": {
   "codemirror_mode": {
    "name": "ipython",
    "version": 3
   },
   "file_extension": ".py",
   "mimetype": "text/x-python",
   "name": "python",
   "nbconvert_exporter": "python",
   "pygments_lexer": "ipython3",
   "version": "3.5.1"
  }
 },
 "nbformat": 4,
 "nbformat_minor": 0
}
