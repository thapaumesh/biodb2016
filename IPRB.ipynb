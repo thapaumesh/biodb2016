{
 "cells": [
  {
   "cell_type": "code",
   "execution_count": 1,
   "metadata": {
    "collapsed": false
   },
   "outputs": [
    {
     "data": {
      "text/plain": [
       "0.7336719883889695"
      ]
     },
     "execution_count": 1,
     "metadata": {},
     "output_type": "execute_result"
    }
   ],
   "source": [
    "def IPRB(k,m,n):\n",
    "\n",
    "    k,m,n = map(float, (k,m,n))\n",
    "    t = k+m+n\n",
    "    pk = k/t\n",
    "    pm = m/t\n",
    "    pn = n/t\n",
    "\n",
    "    \n",
    "    prob = 1 ## Max probability\n",
    "    prob -= pn*((n-1)/(t-1)) #homozygous recessive\n",
    "    prob -= 2*pn*(m/(t-1))*0.5   #one homozygous recessive & one heterozygous recessive, (e.g. Aa * aa & aa * Aa)\n",
    "    prob -= pm*((m-1)/(t-1))*0.25 #heterozygous recessive\n",
    "\n",
    "    return prob\n",
    "IPRB(15, 21, 17)"
   ]
  },
  {
   "cell_type": "code",
   "execution_count": null,
   "metadata": {
    "collapsed": true
   },
   "outputs": [],
   "source": [
    ""
   ]
  }
 ],
 "metadata": {
  "anaconda-cloud": {},
  "kernelspec": {
   "display_name": "Python 3",
   "language": "python",
   "name": "python3"
  },
  "language_info": {
   "codemirror_mode": {
    "name": "ipython",
    "version": 3.0
   },
   "file_extension": ".py",
   "mimetype": "text/x-python",
   "name": "python",
   "nbconvert_exporter": "python",
   "pygments_lexer": "ipython3",
   "version": "3.5.1"
  }
 },
 "nbformat": 4,
 "nbformat_minor": 0
}