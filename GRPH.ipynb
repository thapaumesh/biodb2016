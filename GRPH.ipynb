{
 "cells": [
  {
   "cell_type": "code",
   "execution_count": null,
   "metadata": {
    "collapsed": true
   },
   "outputs": [],
   "source": [
    "def parse_fasta(fasta):\n",
    "    results = []\n",
    "    strings = fasta.strip().split('>')\n",
    "\n",
    "    for s in strings:\n",
    "        if len(s):\n",
    "            parts = s.split()\n",
    "            k = parts[0]\n",
    "            v = ''.join(parts[1:])\n",
    "            results.append((k, v))\n",
    "\n",
    "    return results\n",
    "\n",
    "\n",
    "def overlap_graph(fasta, n):\n",
    "    results = []\n",
    "\n",
    "    dna = parse_fasta(fasta)\n",
    "\n",
    "    for k1, v1 in dna:\n",
    "        for k2, v2 in dna:\n",
    "            if k1 != k2 and v1.endswith(v2[:n]):\n",
    "                results.append((k1, k2))\n",
    "\n",
    "    return results\n",
    "\n",
    "\n",
    "if __name__ == \"__main__\":\n",
    "\n",
    "    \n",
    "\n",
    "    large_dataset = open('rosalind_grph (3).txt').read()\n",
    "\n",
    "    for edge in overlap_graph(large_dataset, 3):\n",
    "        print (edge[0], edge[1])"
   ]
  }
 ],
 "metadata": {
  "kernelspec": {
   "display_name": "Python 3",
   "language": "python",
   "name": "python3"
  },
  "language_info": {
   "codemirror_mode": {
    "name": "ipython",
    "version": 3
   },
   "file_extension": ".py",
   "mimetype": "text/x-python",
   "name": "python",
   "nbconvert_exporter": "python",
   "pygments_lexer": "ipython3",
   "version": "3.5.1"
  }
 },
 "nbformat": 4,
 "nbformat_minor": 0
}
