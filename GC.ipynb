{
 "cells": [
  {
   "cell_type": "code",
   "execution_count": 1,
   "metadata": {
    "collapsed": false
   },
   "outputs": [
    {
     "ename": "FileNotFoundError",
     "evalue": "[Errno 2] No such file or directory: 'rosalind_gc.txt'",
     "output_type": "error",
     "traceback": [
      "\u001b[1;31m---------------------------------------------------------------------------\u001b[0m",
      "\u001b[1;31mFileNotFoundError\u001b[0m                         Traceback (most recent call last)",
      "\u001b[1;32m<ipython-input-1-d67c000d4ca1>\u001b[0m in \u001b[0;36m<module>\u001b[1;34m()\u001b[0m\n\u001b[0;32m     31\u001b[0m     \u001b[1;32mreturn\u001b[0m \u001b[0mmax_id\u001b[0m\u001b[1;33m,\u001b[0m \u001b[0mmax_count\u001b[0m\u001b[1;33m\u001b[0m\u001b[0m\n\u001b[0;32m     32\u001b[0m \u001b[1;33m\u001b[0m\u001b[0m\n\u001b[1;32m---> 33\u001b[1;33m \u001b[0mgc_count\u001b[0m\u001b[1;33m(\u001b[0m\u001b[1;34m'rosalind_gc.txt'\u001b[0m\u001b[1;33m)\u001b[0m\u001b[1;33m\u001b[0m\u001b[0m\n\u001b[0m",
      "\u001b[1;32m<ipython-input-1-d67c000d4ca1>\u001b[0m in \u001b[0;36mgc_count\u001b[1;34m(filename)\u001b[0m\n\u001b[0;32m     17\u001b[0m \u001b[1;33m\u001b[0m\u001b[0m\n\u001b[0;32m     18\u001b[0m \u001b[1;32mdef\u001b[0m \u001b[0mgc_count\u001b[0m\u001b[1;33m(\u001b[0m\u001b[0mfilename\u001b[0m\u001b[1;33m)\u001b[0m\u001b[1;33m:\u001b[0m\u001b[1;33m\u001b[0m\u001b[0m\n\u001b[1;32m---> 19\u001b[1;33m     \u001b[0mfin\u001b[0m \u001b[1;33m=\u001b[0m \u001b[0mread_file\u001b[0m\u001b[1;33m(\u001b[0m\u001b[0mfilename\u001b[0m\u001b[1;33m)\u001b[0m\u001b[1;33m\u001b[0m\u001b[0m\n\u001b[0m\u001b[0;32m     20\u001b[0m     \u001b[0mseq_ids\u001b[0m \u001b[1;33m=\u001b[0m \u001b[1;33m[\u001b[0m\u001b[1;33m]\u001b[0m\u001b[1;33m\u001b[0m\u001b[0m\n\u001b[0;32m     21\u001b[0m     \u001b[0mgc_counts\u001b[0m \u001b[1;33m=\u001b[0m \u001b[1;33m[\u001b[0m\u001b[1;33m]\u001b[0m\u001b[1;33m\u001b[0m\u001b[0m\n",
      "\u001b[1;32m<ipython-input-1-d67c000d4ca1>\u001b[0m in \u001b[0;36mread_file\u001b[1;34m(infile)\u001b[0m\n\u001b[0;32m      1\u001b[0m \u001b[1;31m##GC    Computing GC Content\u001b[0m\u001b[1;33m\u001b[0m\u001b[1;33m\u001b[0m\u001b[0m\n\u001b[0;32m      2\u001b[0m \u001b[1;32mdef\u001b[0m \u001b[0mread_file\u001b[0m\u001b[1;33m(\u001b[0m\u001b[0minfile\u001b[0m\u001b[1;33m)\u001b[0m\u001b[1;33m:\u001b[0m\u001b[1;33m\u001b[0m\u001b[0m\n\u001b[1;32m----> 3\u001b[1;33m     \u001b[0mfin\u001b[0m \u001b[1;33m=\u001b[0m \u001b[0mopen\u001b[0m\u001b[1;33m(\u001b[0m\u001b[0minfile\u001b[0m\u001b[1;33m,\u001b[0m \u001b[1;34m\"r\"\u001b[0m\u001b[1;33m)\u001b[0m\u001b[1;33m\u001b[0m\u001b[0m\n\u001b[0m\u001b[0;32m      4\u001b[0m     \u001b[0mseq\u001b[0m \u001b[1;33m=\u001b[0m \u001b[1;34m\"\"\u001b[0m\u001b[1;33m\u001b[0m\u001b[0m\n\u001b[0;32m      5\u001b[0m     \u001b[0mheader\u001b[0m \u001b[1;33m=\u001b[0m \u001b[1;32mNone\u001b[0m\u001b[1;33m\u001b[0m\u001b[0m\n",
      "\u001b[1;31mFileNotFoundError\u001b[0m: [Errno 2] No such file or directory: 'rosalind_gc.txt'"
     ]
    }
   ],
   "source": [
    "##GC\tComputing GC Content\n",
    "def read_file(infile):\n",
    "    fin = open(infile, \"r\")\n",
    "    seq = \"\"\n",
    "    header = None\n",
    "    all_seq = []\n",
    "    for line in fin:\n",
    "        if line.startswith(\">\"):\n",
    "            if header is not None:\n",
    "                all_seq.append((header,seq))\n",
    "            header = line.lstrip(\">\").rstrip(\"\\n\")\n",
    "            seq=\"\"\n",
    "        else:\n",
    "            seq += line.strip()\n",
    "    all_seq.append((header,seq))      \n",
    "    return(all_seq)\n",
    "\n",
    "def gc_count(filename):\n",
    "    fin = read_file(filename)\n",
    "    seq_ids = []\n",
    "    gc_counts = []\n",
    "    for entry in fin:\n",
    "        seq_id = entry[0]\n",
    "        seq = entry[1]\n",
    "        a, t, g, c = DNA(seq)\n",
    "        seq_ids.append(entry[0])\n",
    "        gc_counts.append(float((g + c))*100 / float(a + t + g + c))\n",
    "    max_count = max(gc_counts)\n",
    "    index = [i for i, j in enumerate(gc_counts) if j == max_count]\n",
    "    max_id = seq_ids[index[0]]\n",
    "    return max_id, max_count\n",
    "\n",
    "gc_count('rosalind_gc.txt')"
   ]
  },
  {
   "cell_type": "code",
   "execution_count": 1,
   "metadata": {
    "collapsed": false
   },
   "outputs": [
    {
     "name": "stdout",
     "output_type": "stream",
     "text": [
      "('Rosalind_6152', 51.410658307210035)\n"
     ]
    }
   ],
   "source": [
    "def read_fasta(infile):\n",
    "    fin = open(infile, \"r\")\n",
    "    seq = \"\"\n",
    "    header = None\n",
    "    all_seq = {}\n",
    "    for line in fin:\n",
    "        if line.startswith(\">\"):\n",
    "            if header is not None:\n",
    "                all_seq[header] = seq\n",
    "            header = line.lstrip(\">\").rstrip(\"\\n\")\n",
    "            seq=\"\"\n",
    "        else:\n",
    "            seq += line.strip()\n",
    "    all_seq[header] = seq     \n",
    "    \n",
    "    fin.close()\n",
    "    return(all_seq)\n",
    "\n",
    "def rankGC(infile):\n",
    "    all_seq = read_fasta(infile)\n",
    "    countGC = {}\n",
    "    for header, seq in all_seq.items():\n",
    "        Gcount = 0\n",
    "        Ccount = 0\n",
    "        for c in seq:\n",
    "            if c == 'G':\n",
    "                Gcount += 1\n",
    "            elif c == 'C':\n",
    "                Ccount += 1\n",
    "        GCpercentage = (Gcount + Ccount) / len(seq) *100\n",
    "        countGC[header] = GCpercentage\n",
    "    max_seq = max(countGC, key=countGC.get)\n",
    "    max_val = countGC[max_seq]\n",
    "    return max_seq, max_val\n",
    "\n",
    "infile = \"rosalind_gc.txt\"\n",
    "res = rankGC(infile)\n",
    "print (res)"
   ]
  },
  {
   "cell_type": "code",
   "execution_count": null,
   "metadata": {
    "collapsed": true
   },
   "outputs": [],
   "source": [
    "def biggest_key(power_levels):\n",
    "    max_val=max(power_levels.values())\n",
    "    for key in power_levels :\n",
    "        if ( power_levels[key]==max_val ):\n",
    "            return( key)\n",
    "        \n",
    "\n",
    "def GC(filename):        \n",
    "    with open(filename) as fp:\n",
    "        dict_str={}\n",
    "    \n",
    "        for line in fp:\n",
    "            if (line.startswith( '>' )):\n",
    "                strSeq=''\n",
    "                symbol=line\n",
    "            else:\n",
    "                strSeq=strSeq+line\n",
    "                dict_str[symbol] = strSeq\n",
    "\n",
    "        for x in dict_str:\n",
    "            #print(x,dict_str[x])\n",
    "            if (len(dict_str[x]) >1000):\n",
    "                print('The sizeof  string greater than 1k')\n",
    "                return\n",
    "            cg=dict_str[x].count('C')+dict_str[x].count('G')\n",
    "            atcg=cg+dict_str[x].count('A')+dict_str[x].count('T')\n",
    "            #print('GC',cg/atcg)\n",
    "            dict_str[x]=cg/atcg\n",
    "\n",
    "    return biggest_key(dict_str)     \n",
    "\n",
    "            \n",
    "print(GC('python_file.txt'))"
   ]
  }
 ],
 "metadata": {
  "kernelspec": {
   "display_name": "Python 3",
   "language": "python",
   "name": "python3"
  },
  "language_info": {
   "codemirror_mode": {
    "name": "ipython",
    "version": 3
   },
   "file_extension": ".py",
   "mimetype": "text/x-python",
   "name": "python",
   "nbconvert_exporter": "python",
   "pygments_lexer": "ipython3",
   "version": "3.5.1"
  }
 },
 "nbformat": 4,
 "nbformat_minor": 0
}
